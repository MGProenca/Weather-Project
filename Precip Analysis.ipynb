{
 "cells": [
  {
   "cell_type": "code",
   "execution_count": 1,
   "metadata": {},
   "outputs": [],
   "source": [
    "import pandas as pd\n",
    "import numpy as np\n",
    "import glob\n",
    "import os\n",
    "import pickle"
   ]
  },
  {
   "cell_type": "code",
   "execution_count": 2,
   "metadata": {},
   "outputs": [
    {
     "name": "stderr",
     "output_type": "stream",
     "text": [
      "<>:1: SyntaxWarning: invalid escape sequence '\\W'\n",
      "<>:1: SyntaxWarning: invalid escape sequence '\\W'\n",
      "C:\\Users\\marti\\AppData\\Local\\Temp\\ipykernel_4744\\1666682795.py:1: SyntaxWarning: invalid escape sequence '\\W'\n",
      "  with open('D:\\Weather Project\\data\\MET Data\\complete_data.pkl', 'rb') as file:\n"
     ]
    }
   ],
   "source": [
    "with open('D:\\Weather Project\\data\\MET Data\\complete_data.pkl', 'rb') as file:\n",
    "    df = pickle.load(file)\n",
    "\n",
    "df = df[['Data', 'Hora UTC', 'PRECIPITAÇÃO TOTAL, HORÁRIO (mm)','REGIAO', 'UF', 'ESTACAO',\n",
    "       'CODIGO (WMO)']]"
   ]
  },
  {
   "cell_type": "code",
   "execution_count": 3,
   "metadata": {},
   "outputs": [],
   "source": [
    "# Drop cities with only missing values\n",
    "nan_percentages_by_city = df.groupby('CODIGO (WMO)')['PRECIPITAÇÃO TOTAL, HORÁRIO (mm)'].apply(lambda x: (x.isna().sum() / len(x)))\n",
    "missing_idxs = nan_percentages_by_city[nan_percentages_by_city> 0.95].index\n",
    "df = df[~df['CODIGO (WMO)'].isin(missing_idxs)]"
   ]
  },
  {
   "cell_type": "code",
   "execution_count": 4,
   "metadata": {},
   "outputs": [],
   "source": [
    "df['lag_precip'] = df.groupby('CODIGO (WMO)')['PRECIPITAÇÃO TOTAL, HORÁRIO (mm)'].shift(1)\n",
    "df['rain_start_count'] = 0\n",
    "df.loc[(df['PRECIPITAÇÃO TOTAL, HORÁRIO (mm)'] > 0) & (df['lag_precip']==0), 'rain_start_count'] = 1"
   ]
  },
  {
   "cell_type": "code",
   "execution_count": 5,
   "metadata": {},
   "outputs": [
    {
     "name": "stderr",
     "output_type": "stream",
     "text": [
      "<>:1: SyntaxWarning: invalid escape sequence '\\W'\n",
      "<>:1: SyntaxWarning: invalid escape sequence '\\W'\n",
      "C:\\Users\\marti\\AppData\\Local\\Temp\\ipykernel_4744\\1792589524.py:1: SyntaxWarning: invalid escape sequence '\\W'\n",
      "  with open('D:\\Weather Project\\data\\MET Data\\precip_data.pkl', 'wb') as file:\n"
     ]
    }
   ],
   "source": [
    "with open('D:\\Weather Project\\data\\MET Data\\precip_data.pkl', 'wb') as file:\n",
    "    pickle.dump(df, file)"
   ]
  },
  {
   "cell_type": "code",
   "execution_count": 6,
   "metadata": {},
   "outputs": [
    {
     "name": "stderr",
     "output_type": "stream",
     "text": [
      "<>:1: SyntaxWarning: invalid escape sequence '\\W'\n",
      "<>:1: SyntaxWarning: invalid escape sequence '\\W'\n",
      "C:\\Users\\marti\\AppData\\Local\\Temp\\ipykernel_4744\\173438111.py:1: SyntaxWarning: invalid escape sequence '\\W'\n",
      "  with open('D:\\Weather Project\\data\\MET Data\\glossary.pkl', 'rb') as file:\n"
     ]
    }
   ],
   "source": [
    "with open('D:\\Weather Project\\data\\MET Data\\glossary.pkl', 'rb') as file:\n",
    "    glossary = pickle.load(file)"
   ]
  },
  {
   "cell_type": "code",
   "execution_count": 7,
   "metadata": {},
   "outputs": [],
   "source": [
    "city_week_group = df.groupby(['CODIGO (WMO)', pd.Grouper(freq='W', key='Data')])[['rain_start_count']].sum()\n",
    "city_week_group.reset_index(inplace=True)"
   ]
  },
  {
   "cell_type": "code",
   "execution_count": 8,
   "metadata": {},
   "outputs": [],
   "source": [
    "city_group = city_week_group.groupby('CODIGO (WMO)').mean(numeric_only=True)\n",
    "city_group.rename(columns={\n",
    "    'rain_start_count':'mean weekly rain starts'\n",
    "}, inplace =True)\n",
    "\n",
    "city_group = city_group.merge(glossary, left_index=True, right_index=True)"
   ]
  },
  {
   "cell_type": "code",
   "execution_count": 9,
   "metadata": {},
   "outputs": [],
   "source": [
    "# Create a new column with the sorted order of 'Column1' in descending order\n",
    "city_group['Precip Raning'] = (-city_group['mean weekly rain starts']).argsort().argsort()"
   ]
  },
  {
   "cell_type": "code",
   "execution_count": 10,
   "metadata": {},
   "outputs": [
    {
     "data": {
      "text/html": [
       "<div>\n",
       "<style scoped>\n",
       "    .dataframe tbody tr th:only-of-type {\n",
       "        vertical-align: middle;\n",
       "    }\n",
       "\n",
       "    .dataframe tbody tr th {\n",
       "        vertical-align: top;\n",
       "    }\n",
       "\n",
       "    .dataframe thead th {\n",
       "        text-align: right;\n",
       "    }\n",
       "</style>\n",
       "<table border=\"1\" class=\"dataframe\">\n",
       "  <thead>\n",
       "    <tr style=\"text-align: right;\">\n",
       "      <th></th>\n",
       "      <th>mean weekly rain starts</th>\n",
       "      <th>REGIAO</th>\n",
       "      <th>UF</th>\n",
       "      <th>ESTACAO</th>\n",
       "      <th>LATITUDE</th>\n",
       "      <th>LONGITUDE</th>\n",
       "      <th>ALTITUDE</th>\n",
       "      <th>Precip Raning</th>\n",
       "    </tr>\n",
       "    <tr>\n",
       "      <th>CODIGO (WMO)</th>\n",
       "      <th></th>\n",
       "      <th></th>\n",
       "      <th></th>\n",
       "      <th></th>\n",
       "      <th></th>\n",
       "      <th></th>\n",
       "      <th></th>\n",
       "      <th></th>\n",
       "    </tr>\n",
       "  </thead>\n",
       "  <tbody>\n",
       "    <tr>\n",
       "      <th>A001</th>\n",
       "      <td>4.343949</td>\n",
       "      <td>CO</td>\n",
       "      <td>DF</td>\n",
       "      <td>BRASILIA</td>\n",
       "      <td>-15,78944444</td>\n",
       "      <td>-47,92583332</td>\n",
       "      <td>1160,96</td>\n",
       "      <td>162</td>\n",
       "    </tr>\n",
       "    <tr>\n",
       "      <th>A002</th>\n",
       "      <td>4.694268</td>\n",
       "      <td>CO</td>\n",
       "      <td>GO</td>\n",
       "      <td>GOIANIA</td>\n",
       "      <td>-16,642841</td>\n",
       "      <td>-49,220222</td>\n",
       "      <td>727,3</td>\n",
       "      <td>121</td>\n",
       "    </tr>\n",
       "    <tr>\n",
       "      <th>A003</th>\n",
       "      <td>4.439490</td>\n",
       "      <td>CO</td>\n",
       "      <td>GO</td>\n",
       "      <td>MORRINHOS</td>\n",
       "      <td>-17,745066</td>\n",
       "      <td>-49,101698</td>\n",
       "      <td>751,09</td>\n",
       "      <td>149</td>\n",
       "    </tr>\n",
       "    <tr>\n",
       "      <th>A005</th>\n",
       "      <td>3.267516</td>\n",
       "      <td>CO</td>\n",
       "      <td>GO</td>\n",
       "      <td>PORANGATU</td>\n",
       "      <td>-13,30944444</td>\n",
       "      <td>-49,11749999</td>\n",
       "      <td>365</td>\n",
       "      <td>268</td>\n",
       "    </tr>\n",
       "    <tr>\n",
       "      <th>A009</th>\n",
       "      <td>4.152866</td>\n",
       "      <td>N</td>\n",
       "      <td>TO</td>\n",
       "      <td>PALMAS</td>\n",
       "      <td>-10,19083333</td>\n",
       "      <td>-48,30194444</td>\n",
       "      <td>291,87</td>\n",
       "      <td>177</td>\n",
       "    </tr>\n",
       "    <tr>\n",
       "      <th>...</th>\n",
       "      <td>...</td>\n",
       "      <td>...</td>\n",
       "      <td>...</td>\n",
       "      <td>...</td>\n",
       "      <td>...</td>\n",
       "      <td>...</td>\n",
       "      <td>...</td>\n",
       "      <td>...</td>\n",
       "    </tr>\n",
       "    <tr>\n",
       "      <th>S712</th>\n",
       "      <td>2.830189</td>\n",
       "      <td>CO</td>\n",
       "      <td>MS</td>\n",
       "      <td>NOVA ALVORADA DO SUL</td>\n",
       "      <td>-21,450972</td>\n",
       "      <td>-54,341972</td>\n",
       "      <td>5</td>\n",
       "      <td>313</td>\n",
       "    </tr>\n",
       "    <tr>\n",
       "      <th>S713</th>\n",
       "      <td>0.528302</td>\n",
       "      <td>CO</td>\n",
       "      <td>MS</td>\n",
       "      <td>NOVA ANDRADINA</td>\n",
       "      <td>-22,0786111</td>\n",
       "      <td>-53,46583333</td>\n",
       "      <td>372</td>\n",
       "      <td>541</td>\n",
       "    </tr>\n",
       "    <tr>\n",
       "      <th>S714</th>\n",
       "      <td>1.886792</td>\n",
       "      <td>CO</td>\n",
       "      <td>MS</td>\n",
       "      <td>PEDRO GOMES</td>\n",
       "      <td>-18,07277777</td>\n",
       "      <td>-54,54888888</td>\n",
       "      <td>251</td>\n",
       "      <td>425</td>\n",
       "    </tr>\n",
       "    <tr>\n",
       "      <th>S715</th>\n",
       "      <td>3.603774</td>\n",
       "      <td>CO</td>\n",
       "      <td>MS</td>\n",
       "      <td>RIBAS DO RIO PARDO</td>\n",
       "      <td>-20,466694</td>\n",
       "      <td>-53,763028</td>\n",
       "      <td>442</td>\n",
       "      <td>237</td>\n",
       "    </tr>\n",
       "    <tr>\n",
       "      <th>S716</th>\n",
       "      <td>2.528302</td>\n",
       "      <td>CO</td>\n",
       "      <td>MS</td>\n",
       "      <td>SANTA RITA DO PARDO</td>\n",
       "      <td>-21,305889</td>\n",
       "      <td>-52,820375</td>\n",
       "      <td>383</td>\n",
       "      <td>348</td>\n",
       "    </tr>\n",
       "  </tbody>\n",
       "</table>\n",
       "<p>565 rows × 8 columns</p>\n",
       "</div>"
      ],
      "text/plain": [
       "              mean weekly rain starts REGIAO  UF               ESTACAO  \\\n",
       "CODIGO (WMO)                                                             \n",
       "A001                         4.343949     CO  DF              BRASILIA   \n",
       "A002                         4.694268     CO  GO               GOIANIA   \n",
       "A003                         4.439490     CO  GO             MORRINHOS   \n",
       "A005                         3.267516     CO  GO             PORANGATU   \n",
       "A009                         4.152866      N  TO                PALMAS   \n",
       "...                               ...    ...  ..                   ...   \n",
       "S712                         2.830189     CO  MS  NOVA ALVORADA DO SUL   \n",
       "S713                         0.528302     CO  MS        NOVA ANDRADINA   \n",
       "S714                         1.886792     CO  MS           PEDRO GOMES   \n",
       "S715                         3.603774     CO  MS    RIBAS DO RIO PARDO   \n",
       "S716                         2.528302     CO  MS   SANTA RITA DO PARDO   \n",
       "\n",
       "                  LATITUDE     LONGITUDE ALTITUDE  Precip Raning  \n",
       "CODIGO (WMO)                                                      \n",
       "A001          -15,78944444  -47,92583332  1160,96            162  \n",
       "A002            -16,642841    -49,220222    727,3            121  \n",
       "A003            -17,745066    -49,101698   751,09            149  \n",
       "A005          -13,30944444  -49,11749999      365            268  \n",
       "A009          -10,19083333  -48,30194444   291,87            177  \n",
       "...                    ...           ...      ...            ...  \n",
       "S712            -21,450972    -54,341972        5            313  \n",
       "S713           -22,0786111  -53,46583333      372            541  \n",
       "S714          -18,07277777  -54,54888888      251            425  \n",
       "S715            -20,466694    -53,763028      442            237  \n",
       "S716            -21,305889    -52,820375      383            348  \n",
       "\n",
       "[565 rows x 8 columns]"
      ]
     },
     "execution_count": 10,
     "metadata": {},
     "output_type": "execute_result"
    }
   ],
   "source": [
    "city_group"
   ]
  },
  {
   "cell_type": "code",
   "execution_count": 11,
   "metadata": {},
   "outputs": [
    {
     "name": "stderr",
     "output_type": "stream",
     "text": [
      "<>:1: SyntaxWarning: invalid escape sequence '\\W'\n",
      "<>:1: SyntaxWarning: invalid escape sequence '\\W'\n",
      "C:\\Users\\marti\\AppData\\Local\\Temp\\ipykernel_4744\\4290103485.py:1: SyntaxWarning: invalid escape sequence '\\W'\n",
      "  with open('D:\\Weather Project\\data\\MET Data\\city_group.pkl', 'wb') as file:\n"
     ]
    }
   ],
   "source": [
    "with open('D:\\Weather Project\\data\\MET Data\\city_group.pkl', 'wb') as file:\n",
    "    pickle.dump(city_group, file)"
   ]
  }
 ],
 "metadata": {
  "kernelspec": {
   "display_name": "Python 3",
   "language": "python",
   "name": "python3"
  },
  "language_info": {
   "codemirror_mode": {
    "name": "ipython",
    "version": 3
   },
   "file_extension": ".py",
   "mimetype": "text/x-python",
   "name": "python",
   "nbconvert_exporter": "python",
   "pygments_lexer": "ipython3",
   "version": "3.12.1"
  }
 },
 "nbformat": 4,
 "nbformat_minor": 2
}
