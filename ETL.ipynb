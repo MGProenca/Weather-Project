{
 "cells": [
  {
   "cell_type": "code",
   "execution_count": 1,
   "metadata": {},
   "outputs": [],
   "source": [
    "# Source = https://portal.inmet.gov.br/dadoshistoricos"
   ]
  },
  {
   "cell_type": "code",
   "execution_count": 1,
   "metadata": {},
   "outputs": [],
   "source": [
    "import pandas as pd\n",
    "import numpy as np\n",
    "import glob\n",
    "import os\n",
    "import pickle"
   ]
  },
  {
   "cell_type": "code",
   "execution_count": 99,
   "metadata": {},
   "outputs": [],
   "source": [
    "years_folder = \"D:\\\\Weather Project\\\\data\\\\MET Data\\\\*\\\\\"\n",
    "all_years_dfs = [] \n",
    "for year_folder in glob.glob(years_folder):\n",
    "    year = int(year_folder[-5:-1])\n",
    "    city_dfs = []\n",
    "    for file in glob.glob(year_folder+'*.csv'):\n",
    "        city_data = pd.read_csv(file, delimiter=';', header=8, encoding='latin-1', decimal=',')\n",
    "\n",
    "        city_metadata = pd.read_csv(file, delimiter=';', nrows=7, encoding='latin-1', decimal=',', header=None)\n",
    "        city_metadata.columns = ['KEY', 'VALUE']\n",
    "        city_metadata['KEY'] = city_metadata['KEY'].str.replace(':','')\n",
    "        city_metadata.set_index('KEY', inplace=True)\n",
    "        city_metadata = pd.Series(city_metadata['VALUE'])\n",
    "\n",
    "        # Add metadata as columns\n",
    "        for idx_name in city_metadata.index:\n",
    "            city_data[idx_name] = city_metadata[idx_name]\n",
    "        \n",
    "        city_dfs.append(city_data)\n",
    "    single_year_df = pd.concat(city_dfs)\n",
    "    all_years_dfs.append(single_year_df)\n",
    "complete_data = pd.concat(all_years_dfs)"
   ]
  },
  {
   "cell_type": "code",
   "execution_count": 113,
   "metadata": {},
   "outputs": [],
   "source": [
    "complete_data.drop(columns=['Unnamed: 19'], inplace=True)\n",
    "complete_data['Data'] = pd.to_datetime(complete_data['Data'])\n",
    "complete_data.reset_index(inplace=True)\n"
   ]
  },
  {
   "cell_type": "code",
   "execution_count": 121,
   "metadata": {},
   "outputs": [
    {
     "name": "stderr",
     "output_type": "stream",
     "text": [
      "<>:1: SyntaxWarning: invalid escape sequence '\\W'\n",
      "<>:1: SyntaxWarning: invalid escape sequence '\\W'\n",
      "C:\\Users\\marti\\AppData\\Local\\Temp\\ipykernel_1040\\2103050345.py:1: SyntaxWarning: invalid escape sequence '\\W'\n",
      "  with open('D:\\Weather Project\\data\\MET Data\\complete_data.pkl', 'wb') as file:\n"
     ]
    }
   ],
   "source": [
    "with open('D:\\Weather Project\\data\\MET Data\\complete_data.pkl', 'wb') as file:\n",
    "    pickle.dump(complete_data, file)"
   ]
  },
  {
   "cell_type": "code",
   "execution_count": 2,
   "metadata": {},
   "outputs": [
    {
     "name": "stderr",
     "output_type": "stream",
     "text": [
      "<>:1: SyntaxWarning: invalid escape sequence '\\W'\n",
      "<>:1: SyntaxWarning: invalid escape sequence '\\W'\n",
      "C:\\Users\\marti\\AppData\\Local\\Temp\\ipykernel_13136\\3598454427.py:1: SyntaxWarning: invalid escape sequence '\\W'\n",
      "  with open('D:\\Weather Project\\data\\MET Data\\complete_data.pkl', 'rb') as file:\n"
     ]
    }
   ],
   "source": [
    "with open('D:\\Weather Project\\data\\MET Data\\complete_data.pkl', 'rb') as file:\n",
    "    df = pickle.load(file)"
   ]
  },
  {
   "cell_type": "code",
   "execution_count": 7,
   "metadata": {},
   "outputs": [],
   "source": [
    "glossary = df[['REGIAO', 'UF', 'ESTACAO','CODIGO (WMO)', 'LATITUDE', 'LONGITUDE', 'ALTITUDE']]\n",
    "glossary = glossary.groupby('CODIGO (WMO)').first()"
   ]
  },
  {
   "cell_type": "code",
   "execution_count": 9,
   "metadata": {},
   "outputs": [
    {
     "name": "stderr",
     "output_type": "stream",
     "text": [
      "<>:1: SyntaxWarning: invalid escape sequence '\\W'\n",
      "<>:1: SyntaxWarning: invalid escape sequence '\\W'\n",
      "C:\\Users\\marti\\AppData\\Local\\Temp\\ipykernel_13136\\549372661.py:1: SyntaxWarning: invalid escape sequence '\\W'\n",
      "  with open('D:\\Weather Project\\data\\MET Data\\glossary.pkl', 'wb') as file:\n"
     ]
    }
   ],
   "source": [
    "with open('D:\\Weather Project\\data\\MET Data\\glossary.pkl', 'wb') as file:\n",
    "    pickle.dump(glossary, file)"
   ]
  }
 ],
 "metadata": {
  "kernelspec": {
   "display_name": "Python 3",
   "language": "python",
   "name": "python3"
  },
  "language_info": {
   "codemirror_mode": {
    "name": "ipython",
    "version": 3
   },
   "file_extension": ".py",
   "mimetype": "text/x-python",
   "name": "python",
   "nbconvert_exporter": "python",
   "pygments_lexer": "ipython3",
   "version": "3.12.1"
  }
 },
 "nbformat": 4,
 "nbformat_minor": 2
}
